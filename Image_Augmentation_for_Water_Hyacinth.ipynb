{
  "nbformat": 4,
  "nbformat_minor": 0,
  "metadata": {
    "colab": {
      "provenance": []
    },
    "kernelspec": {
      "name": "python3",
      "display_name": "Python 3"
    },
    "language_info": {
      "name": "python"
    }
  },
  "cells": [
    {
      "cell_type": "markdown",
      "source": [
        "# Image Augmentation"
      ],
      "metadata": {
        "id": "8iFVvUbufOsi"
      }
    },
    {
      "cell_type": "code",
      "execution_count": 1,
      "metadata": {
        "colab": {
          "base_uri": "https://localhost:8080/"
        },
        "id": "xJjUVe4QfAay",
        "outputId": "9c350b2c-9cf5-4203-8f6f-ec9c54055348"
      },
      "outputs": [
        {
          "output_type": "stream",
          "name": "stdout",
          "text": [
            "Collecting sk\n",
            "  Downloading sk-0.0.1.tar.gz (1.8 kB)\n",
            "  Preparing metadata (setup.py) ... \u001b[?25l\u001b[?25hdone\n",
            "Building wheels for collected packages: sk\n",
            "  Building wheel for sk (setup.py) ... \u001b[?25l\u001b[?25hdone\n",
            "  Created wheel for sk: filename=sk-0.0.1-py3-none-any.whl size=1868 sha256=4cf028abd54c63743455b714c6cc01b964499a0d88cd769445b776cb1d053a5f\n",
            "  Stored in directory: /root/.cache/pip/wheels/1f/c8/ef/12b6b826e0dbc9e760d19c65b967a6cef40c56db145d4717d6\n",
            "Successfully built sk\n",
            "Installing collected packages: sk\n",
            "Successfully installed sk-0.0.1\n"
          ]
        }
      ],
      "source": [
        "!pip install sk"
      ]
    },
    {
      "cell_type": "markdown",
      "source": [
        "# Import necessary Libraries"
      ],
      "metadata": {
        "id": "Si6oIl7pgUF_"
      }
    },
    {
      "cell_type": "code",
      "source": [
        "import random\n",
        "from scipy import ndarray\n",
        "import skimage as sk\n",
        "from skimage import transform\n",
        "from skimage import util\n",
        "import os\n",
        "from skimage import io\n",
        "from skimage import img_as_ubyte"
      ],
      "metadata": {
        "id": "2ov87mocgSmZ"
      },
      "execution_count": 7,
      "outputs": []
    },
    {
      "cell_type": "markdown",
      "source": [
        "# Define Augmentation Methods"
      ],
      "metadata": {
        "id": "kRTpEu2rfwc2"
      }
    },
    {
      "cell_type": "code",
      "source": [
        "def random_rotation(image_array: ndarray):\n",
        "    # pick a random degree of rotation between 25% on the left and 25% on the right\n",
        "    random_degree = random.uniform(-25, 25)\n",
        "    return sk.transform.rotate(image_array, random_degree)\n",
        "\n",
        "def random_noise(image_array: ndarray):\n",
        "    # add random noise to the image\n",
        "    return sk.util.random_noise(image_array)\n",
        "\n",
        "def horizontal_flip(image_array: ndarray):\n",
        "    # horizontal flip doesn't need skimage, it's easy as flipping the image array of pixels !\n",
        "    return image_array[:, ::-1]"
      ],
      "metadata": {
        "id": "fMExEMZ7fj7i"
      },
      "execution_count": 5,
      "outputs": []
    },
    {
      "cell_type": "markdown",
      "source": [
        "# Augmentation"
      ],
      "metadata": {
        "id": "DYIWmjT0gJPX"
      }
    },
    {
      "cell_type": "code",
      "source": [
        "# our folder path containing some images\n",
        "# folder_path = '/content/drive/MyDrive/COVID-META/STAR Work/COVID-19/Augmented'\n",
        "folder_path = '/content/drive/MyDrive/Final Dataset/Heartleaf False Pickerelweed (Monochoria korsakowii)'\n",
        "# the number of file to generate\n",
        "num_files_desired = 500\n",
        "\n",
        "\n",
        "i=1\n",
        "# loop on all files of the folder and build a list of files paths\n",
        "images = [os.path.join(folder_path, f) for f in os.listdir(folder_path) if os.path.isfile(os.path.join(folder_path, f))]\n",
        "\n",
        "num_generated_files = 0\n",
        "while num_generated_files <= num_files_desired:\n",
        "\n",
        "    # random image from the folder\n",
        "    image_path = random.choice(images)\n",
        "    # read image as an two dimensional array of pixels\n",
        "    print(image_path)\n",
        "    image_to_transform = sk.io.imread(image_path)\n",
        "    available_transformations = {\n",
        "    'rotate': random_rotation,\n",
        "    'noise': random_noise,\n",
        "    'horizontal_flip': horizontal_flip\n",
        "    }\n",
        "\n",
        "    # random num of transformations to apply\n",
        "    num_transformations_to_apply = random.randint(1, len(available_transformations))\n",
        "\n",
        "    num_transformations = 0\n",
        "    transformed_image = None\n",
        "    while num_transformations <= num_transformations_to_apply:\n",
        "        # choose a random transformation to apply for a single image\n",
        "        key = random.choice(list(available_transformations))\n",
        "        transformed_image = available_transformations[key](image_to_transform)\n",
        "        num_transformations += 1\n",
        "        i=i+1\n",
        "        nflpath='/content/drive/MyDrive/Final Dataset/Heartleaf False Pickerelweed (Monochoria korsakowii)'\n",
        "        # define a name for our new file\n",
        "        new_file_path = '%s/augmented_image_%s.png' %(nflpath, i)\n",
        "        print(new_file_path)\n",
        "\n",
        "        # Check and normalize data type before saving\n",
        "        if transformed_image.dtype != 'uint8':\n",
        "          transformed_image = img_as_ubyte(transformed_image)\n",
        "\n",
        "        # write image to the disk\n",
        "        sk.io.imsave(new_file_path, transformed_image)\n",
        "    num_generated_files+=1"
      ],
      "metadata": {
        "colab": {
          "base_uri": "https://localhost:8080/"
        },
        "id": "dILHKgYfgLQ2",
        "outputId": "93243052-240c-4cf7-c7c4-39a2781124cb"
      },
      "execution_count": null,
      "outputs": [
        {
          "output_type": "stream",
          "name": "stdout",
          "text": [
            "/content/drive/MyDrive/Final Dataset/Heartleaf False Pickerelweed (Monochoria korsakowii)/IMG_20230926_173530.jpg\n",
            "/content/drive/MyDrive/Final Dataset/Heartleaf False Pickerelweed (Monochoria korsakowii)/augmented_image_2.png\n",
            "/content/drive/MyDrive/Final Dataset/Heartleaf False Pickerelweed (Monochoria korsakowii)/augmented_image_3.png\n",
            "/content/drive/MyDrive/Final Dataset/Heartleaf False Pickerelweed (Monochoria korsakowii)/augmented_image_4.png\n",
            "/content/drive/MyDrive/Final Dataset/Heartleaf False Pickerelweed (Monochoria korsakowii)/IMG_20230923_112244.jpg\n",
            "/content/drive/MyDrive/Final Dataset/Heartleaf False Pickerelweed (Monochoria korsakowii)/augmented_image_5.png\n",
            "/content/drive/MyDrive/Final Dataset/Heartleaf False Pickerelweed (Monochoria korsakowii)/augmented_image_6.png\n",
            "/content/drive/MyDrive/Final Dataset/Heartleaf False Pickerelweed (Monochoria korsakowii)/IMG_20230923_112012.jpg\n",
            "/content/drive/MyDrive/Final Dataset/Heartleaf False Pickerelweed (Monochoria korsakowii)/augmented_image_7.png\n",
            "/content/drive/MyDrive/Final Dataset/Heartleaf False Pickerelweed (Monochoria korsakowii)/augmented_image_8.png\n",
            "/content/drive/MyDrive/Final Dataset/Heartleaf False Pickerelweed (Monochoria korsakowii)/augmented_image_9.png\n",
            "/content/drive/MyDrive/Final Dataset/Heartleaf False Pickerelweed (Monochoria korsakowii)/augmented_image_10.png\n",
            "/content/drive/MyDrive/Final Dataset/Heartleaf False Pickerelweed (Monochoria korsakowii)/IMG_20230926_173006.jpg\n",
            "/content/drive/MyDrive/Final Dataset/Heartleaf False Pickerelweed (Monochoria korsakowii)/augmented_image_11.png\n",
            "/content/drive/MyDrive/Final Dataset/Heartleaf False Pickerelweed (Monochoria korsakowii)/augmented_image_12.png\n",
            "/content/drive/MyDrive/Final Dataset/Heartleaf False Pickerelweed (Monochoria korsakowii)/augmented_image_13.png\n",
            "/content/drive/MyDrive/Final Dataset/Heartleaf False Pickerelweed (Monochoria korsakowii)/IMG_20230923_111859.jpg\n",
            "/content/drive/MyDrive/Final Dataset/Heartleaf False Pickerelweed (Monochoria korsakowii)/augmented_image_14.png\n",
            "/content/drive/MyDrive/Final Dataset/Heartleaf False Pickerelweed (Monochoria korsakowii)/augmented_image_15.png\n",
            "/content/drive/MyDrive/Final Dataset/Heartleaf False Pickerelweed (Monochoria korsakowii)/augmented_image_16.png\n",
            "/content/drive/MyDrive/Final Dataset/Heartleaf False Pickerelweed (Monochoria korsakowii)/IMG_20230923_110610.jpg\n",
            "/content/drive/MyDrive/Final Dataset/Heartleaf False Pickerelweed (Monochoria korsakowii)/augmented_image_17.png\n",
            "/content/drive/MyDrive/Final Dataset/Heartleaf False Pickerelweed (Monochoria korsakowii)/augmented_image_18.png\n",
            "/content/drive/MyDrive/Final Dataset/Heartleaf False Pickerelweed (Monochoria korsakowii)/augmented_image_19.png\n",
            "/content/drive/MyDrive/Final Dataset/Heartleaf False Pickerelweed (Monochoria korsakowii)/IMG_20230926_173733.jpg\n",
            "/content/drive/MyDrive/Final Dataset/Heartleaf False Pickerelweed (Monochoria korsakowii)/augmented_image_20.png\n",
            "/content/drive/MyDrive/Final Dataset/Heartleaf False Pickerelweed (Monochoria korsakowii)/augmented_image_21.png\n",
            "/content/drive/MyDrive/Final Dataset/Heartleaf False Pickerelweed (Monochoria korsakowii)/augmented_image_22.png\n",
            "/content/drive/MyDrive/Final Dataset/Heartleaf False Pickerelweed (Monochoria korsakowii)/IMG_20230923_105834.jpg\n",
            "/content/drive/MyDrive/Final Dataset/Heartleaf False Pickerelweed (Monochoria korsakowii)/augmented_image_23.png\n",
            "/content/drive/MyDrive/Final Dataset/Heartleaf False Pickerelweed (Monochoria korsakowii)/augmented_image_24.png\n",
            "/content/drive/MyDrive/Final Dataset/Heartleaf False Pickerelweed (Monochoria korsakowii)/IMG_20230923_105918_1.jpg\n",
            "/content/drive/MyDrive/Final Dataset/Heartleaf False Pickerelweed (Monochoria korsakowii)/augmented_image_25.png\n",
            "/content/drive/MyDrive/Final Dataset/Heartleaf False Pickerelweed (Monochoria korsakowii)/augmented_image_26.png\n",
            "/content/drive/MyDrive/Final Dataset/Heartleaf False Pickerelweed (Monochoria korsakowii)/augmented_image_27.png\n",
            "/content/drive/MyDrive/Final Dataset/Heartleaf False Pickerelweed (Monochoria korsakowii)/augmented_image_28.png\n",
            "/content/drive/MyDrive/Final Dataset/Heartleaf False Pickerelweed (Monochoria korsakowii)/IMG_20230923_111808.jpg\n",
            "/content/drive/MyDrive/Final Dataset/Heartleaf False Pickerelweed (Monochoria korsakowii)/augmented_image_29.png\n",
            "/content/drive/MyDrive/Final Dataset/Heartleaf False Pickerelweed (Monochoria korsakowii)/augmented_image_30.png\n",
            "/content/drive/MyDrive/Final Dataset/Heartleaf False Pickerelweed (Monochoria korsakowii)/IMG_20230923_110748.jpg\n",
            "/content/drive/MyDrive/Final Dataset/Heartleaf False Pickerelweed (Monochoria korsakowii)/augmented_image_31.png\n",
            "/content/drive/MyDrive/Final Dataset/Heartleaf False Pickerelweed (Monochoria korsakowii)/augmented_image_32.png\n",
            "/content/drive/MyDrive/Final Dataset/Heartleaf False Pickerelweed (Monochoria korsakowii)/augmented_image_33.png\n",
            "/content/drive/MyDrive/Final Dataset/Heartleaf False Pickerelweed (Monochoria korsakowii)/IMG_20230923_105607.jpg\n",
            "/content/drive/MyDrive/Final Dataset/Heartleaf False Pickerelweed (Monochoria korsakowii)/augmented_image_34.png\n",
            "/content/drive/MyDrive/Final Dataset/Heartleaf False Pickerelweed (Monochoria korsakowii)/augmented_image_35.png\n",
            "/content/drive/MyDrive/Final Dataset/Heartleaf False Pickerelweed (Monochoria korsakowii)/augmented_image_36.png\n",
            "/content/drive/MyDrive/Final Dataset/Heartleaf False Pickerelweed (Monochoria korsakowii)/augmented_image_37.png\n",
            "/content/drive/MyDrive/Final Dataset/Heartleaf False Pickerelweed (Monochoria korsakowii)/IMG_20230923_105652.jpg\n",
            "/content/drive/MyDrive/Final Dataset/Heartleaf False Pickerelweed (Monochoria korsakowii)/augmented_image_38.png\n",
            "/content/drive/MyDrive/Final Dataset/Heartleaf False Pickerelweed (Monochoria korsakowii)/augmented_image_39.png\n",
            "/content/drive/MyDrive/Final Dataset/Heartleaf False Pickerelweed (Monochoria korsakowii)/augmented_image_40.png\n",
            "/content/drive/MyDrive/Final Dataset/Heartleaf False Pickerelweed (Monochoria korsakowii)/augmented_image_41.png\n",
            "/content/drive/MyDrive/Final Dataset/Heartleaf False Pickerelweed (Monochoria korsakowii)/IMG_20230923_105636.jpg\n",
            "/content/drive/MyDrive/Final Dataset/Heartleaf False Pickerelweed (Monochoria korsakowii)/augmented_image_42.png\n",
            "/content/drive/MyDrive/Final Dataset/Heartleaf False Pickerelweed (Monochoria korsakowii)/augmented_image_43.png\n",
            "/content/drive/MyDrive/Final Dataset/Heartleaf False Pickerelweed (Monochoria korsakowii)/augmented_image_44.png\n",
            "/content/drive/MyDrive/Final Dataset/Heartleaf False Pickerelweed (Monochoria korsakowii)/IMG_20230923_110650.jpg\n",
            "/content/drive/MyDrive/Final Dataset/Heartleaf False Pickerelweed (Monochoria korsakowii)/augmented_image_45.png\n",
            "/content/drive/MyDrive/Final Dataset/Heartleaf False Pickerelweed (Monochoria korsakowii)/augmented_image_46.png\n",
            "/content/drive/MyDrive/Final Dataset/Heartleaf False Pickerelweed (Monochoria korsakowii)/IMG_20230926_172822.jpg\n",
            "/content/drive/MyDrive/Final Dataset/Heartleaf False Pickerelweed (Monochoria korsakowii)/augmented_image_47.png\n",
            "/content/drive/MyDrive/Final Dataset/Heartleaf False Pickerelweed (Monochoria korsakowii)/augmented_image_48.png\n",
            "/content/drive/MyDrive/Final Dataset/Heartleaf False Pickerelweed (Monochoria korsakowii)/augmented_image_49.png\n",
            "/content/drive/MyDrive/Final Dataset/Heartleaf False Pickerelweed (Monochoria korsakowii)/augmented_image_50.png\n",
            "/content/drive/MyDrive/Final Dataset/Heartleaf False Pickerelweed (Monochoria korsakowii)/IMG_20230926_173507.jpg\n",
            "/content/drive/MyDrive/Final Dataset/Heartleaf False Pickerelweed (Monochoria korsakowii)/augmented_image_51.png\n",
            "/content/drive/MyDrive/Final Dataset/Heartleaf False Pickerelweed (Monochoria korsakowii)/augmented_image_52.png\n",
            "/content/drive/MyDrive/Final Dataset/Heartleaf False Pickerelweed (Monochoria korsakowii)/IMG_20230923_105909.jpg\n",
            "/content/drive/MyDrive/Final Dataset/Heartleaf False Pickerelweed (Monochoria korsakowii)/augmented_image_53.png\n",
            "/content/drive/MyDrive/Final Dataset/Heartleaf False Pickerelweed (Monochoria korsakowii)/augmented_image_54.png\n",
            "/content/drive/MyDrive/Final Dataset/Heartleaf False Pickerelweed (Monochoria korsakowii)/augmented_image_55.png\n",
            "/content/drive/MyDrive/Final Dataset/Heartleaf False Pickerelweed (Monochoria korsakowii)/IMG_20230926_173646.jpg\n",
            "/content/drive/MyDrive/Final Dataset/Heartleaf False Pickerelweed (Monochoria korsakowii)/augmented_image_56.png\n",
            "/content/drive/MyDrive/Final Dataset/Heartleaf False Pickerelweed (Monochoria korsakowii)/augmented_image_57.png\n",
            "/content/drive/MyDrive/Final Dataset/Heartleaf False Pickerelweed (Monochoria korsakowii)/augmented_image_58.png\n",
            "/content/drive/MyDrive/Final Dataset/Heartleaf False Pickerelweed (Monochoria korsakowii)/IMG_20230926_172917.jpg\n",
            "/content/drive/MyDrive/Final Dataset/Heartleaf False Pickerelweed (Monochoria korsakowii)/augmented_image_59.png\n",
            "/content/drive/MyDrive/Final Dataset/Heartleaf False Pickerelweed (Monochoria korsakowii)/augmented_image_60.png\n",
            "/content/drive/MyDrive/Final Dataset/Heartleaf False Pickerelweed (Monochoria korsakowii)/augmented_image_61.png\n",
            "/content/drive/MyDrive/Final Dataset/Heartleaf False Pickerelweed (Monochoria korsakowii)/augmented_image_62.png\n"
          ]
        }
      ]
    }
  ]
}