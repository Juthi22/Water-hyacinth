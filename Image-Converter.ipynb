{
 "cells": [
  {
   "cell_type": "code",
   "execution_count": 1,
   "id": "8cf9f73c",
   "metadata": {},
   "outputs": [],
   "source": [
    "from PIL import Image\n",
    "import os"
   ]
  },
  {
   "cell_type": "code",
   "execution_count": 2,
   "id": "cdc05da4",
   "metadata": {},
   "outputs": [
    {
     "name": "stdout",
     "output_type": "stream",
     "text": [
      "Conversion complete.\n"
     ]
    }
   ],
   "source": [
    "# Set the input and output folder paths\n",
    "input_folder = '/Users/hasnainkabir/Downloads/untitled folder'  # Replace with the path to your PNG images folder\n",
    "output_folder = '/Users/hasnainkabir/Downloads/untitled folder 2'  # Replace with the path where you want to save the JPG images\n",
    "\n",
    "# Ensure the output folder exists, create it if it doesn't\n",
    "if not os.path.exists(output_folder):\n",
    "    os.makedirs(output_folder)\n",
    "\n",
    "# List all files in the input folder\n",
    "file_list = os.listdir(input_folder)\n",
    "\n",
    "# Loop through each file in the input folder\n",
    "for filename in file_list:\n",
    "    if filename.endswith(\".png\"):\n",
    "        # Open the PNG image using Pillow\n",
    "        png_image = Image.open(os.path.join(input_folder, filename))\n",
    "\n",
    "        # Remove the \".png\" extension and add \".jpg\" for the output file\n",
    "        output_filename = os.path.splitext(filename)[0] + \".jpg\"\n",
    "\n",
    "        # Save the image in JPG format to the output folder\n",
    "        png_image.save(os.path.join(output_folder, output_filename), \"JPEG\")\n",
    "\n",
    "print(\"Conversion complete.\")"
   ]
  },
  {
   "cell_type": "code",
   "execution_count": null,
   "id": "14bae6f1",
   "metadata": {},
   "outputs": [],
   "source": []
  }
 ],
 "metadata": {
  "kernelspec": {
   "display_name": "Python 3 (ipykernel)",
   "language": "python",
   "name": "python3"
  },
  "language_info": {
   "codemirror_mode": {
    "name": "ipython",
    "version": 3
   },
   "file_extension": ".py",
   "mimetype": "text/x-python",
   "name": "python",
   "nbconvert_exporter": "python",
   "pygments_lexer": "ipython3",
   "version": "3.11.3"
  }
 },
 "nbformat": 4,
 "nbformat_minor": 5
}
