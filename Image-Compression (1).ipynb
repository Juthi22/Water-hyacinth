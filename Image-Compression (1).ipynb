{
 "cells": [
  {
   "cell_type": "code",
   "execution_count": 1,
   "id": "964d00bc",
   "metadata": {},
   "outputs": [],
   "source": [
    "from PIL import Image\n",
    "import os"
   ]
  },
  {
   "cell_type": "code",
   "execution_count": 2,
   "id": "8f722509",
   "metadata": {},
   "outputs": [
    {
     "name": "stdout",
     "output_type": "stream",
     "text": [
      "Compressed: /Users/hasnainkabir/Downloads/untitled folder/20230812_114025.jpg\n",
      "Compressed: /Users/hasnainkabir/Downloads/untitled folder/20230812_114805.jpg\n",
      "Compressed: /Users/hasnainkabir/Downloads/untitled folder/20230812_114622.jpg\n",
      "Compressed: /Users/hasnainkabir/Downloads/untitled folder/20230812_114556.jpg\n",
      "Compressed: /Users/hasnainkabir/Downloads/untitled folder/20230812_114609.jpg\n",
      "Compressed: /Users/hasnainkabir/Downloads/untitled folder/20230812_114802.jpg\n",
      "Compressed: /Users/hasnainkabir/Downloads/untitled folder/20230812_113957.jpg\n",
      "Compressed: /Users/hasnainkabir/Downloads/untitled folder/20230812_114744.jpg\n",
      "Compressed: /Users/hasnainkabir/Downloads/untitled folder/20230812_114801.jpg\n",
      "Compressed: /Users/hasnainkabir/Downloads/untitled folder/20230812_113933.jpg\n",
      "Compressed: /Users/hasnainkabir/Downloads/untitled folder/20230812_114735.jpg\n",
      "Compressed: /Users/hasnainkabir/Downloads/untitled folder/20230812_113930.jpg\n",
      "Compressed: /Users/hasnainkabir/Downloads/untitled folder/20230812_113923.jpg\n",
      "Compressed: /Users/hasnainkabir/Downloads/untitled folder/20230812_113959.jpg\n",
      "Compressed: /Users/hasnainkabir/Downloads/untitled folder/20230812_114005.jpg\n",
      "Compressed: /Users/hasnainkabir/Downloads/untitled folder/20230812_114748.jpg\n",
      "Compressed: /Users/hasnainkabir/Downloads/untitled folder/20230812_114759.jpg\n",
      "Compressed: /Users/hasnainkabir/Downloads/untitled folder/20230812_114017.jpg\n",
      "Compressed: /Users/hasnainkabir/Downloads/untitled folder/20230812_114613.jpg\n",
      "Compressed: /Users/hasnainkabir/Downloads/untitled folder/20230812_114014.jpg\n",
      "Compression complete.\n"
     ]
    }
   ],
   "source": [
    "# Input and output directories\n",
    "input_directory = '/Users/hasnainkabir/Downloads/untitled folder'\n",
    "output_directory = '/Users/hasnainkabir/Downloads/untitled folder 2'\n",
    "\n",
    "# Create the output directory if it doesn't exist\n",
    "if not os.path.exists(output_directory):\n",
    "    os.makedirs(output_directory)\n",
    "\n",
    "# Compression quality (0-100). Lower values mean higher compression.\n",
    "compression_quality = 10  # You can adjust this value\n",
    "\n",
    "# Loop through the input directory\n",
    "for root, dirs, files in os.walk(input_directory):\n",
    "    for file in files:\n",
    "        if file.lower().endswith(('.jpg', '.jpeg', '.png', '.bmp')):\n",
    "            input_path = os.path.join(root, file)\n",
    "            output_path = os.path.join(output_directory, file)\n",
    "            try:\n",
    "                with Image.open(input_path) as img:\n",
    "                    # Convert and save as JPG format\n",
    "                    img = img.convert('RGB')\n",
    "                    img.save(output_path, 'JPEG', quality=compression_quality)\n",
    "                print(f\"Compressed: {input_path}\")\n",
    "            except Exception as e:\n",
    "                print(f\"Error compressing {input_path}: {str(e)}\")\n",
    "\n",
    "print(\"Compression complete.\")"
   ]
  },
  {
   "cell_type": "code",
   "execution_count": null,
   "id": "45aa0754",
   "metadata": {},
   "outputs": [],
   "source": []
  }
 ],
 "metadata": {
  "kernelspec": {
   "display_name": "Python 3 (ipykernel)",
   "language": "python",
   "name": "python3"
  },
  "language_info": {
   "codemirror_mode": {
    "name": "ipython",
    "version": 3
   },
   "file_extension": ".py",
   "mimetype": "text/x-python",
   "name": "python",
   "nbconvert_exporter": "python",
   "pygments_lexer": "ipython3",
   "version": "3.11.3"
  }
 },
 "nbformat": 4,
 "nbformat_minor": 5
}
